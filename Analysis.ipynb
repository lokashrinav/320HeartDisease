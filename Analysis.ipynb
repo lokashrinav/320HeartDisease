{
 "cells": [
  {
   "cell_type": "markdown",
   "id": "60605cdb",
   "metadata": {
    "colab_type": "text",
    "id": "view-in-github"
   },
   "source": [
    "<a href=\"https://colab.research.google.com/github/lokashrinav/320HeartDisease/blob/main/Analysis.ipynb\" target=\"_parent\"><img src=\"https://colab.research.google.com/assets/colab-badge.svg\" alt=\"Open In Colab\"/></a>"
   ]
  },
  {
   "cell_type": "markdown",
   "id": "89e441fe-4ea3-4b9c-b588-759826623d13",
   "metadata": {
    "id": "89e441fe-4ea3-4b9c-b588-759826623d13"
   },
   "source": [
    "# 🏃‍♂️🩺 Correlation Between Lifestyle Factors and Heart Disease\n",
    "\n",
    "_Spring 2025 - CMSC320 Final Project_\n",
    "\n",
    "**Group Members: Eric Ji, Krishnan Tholkappian, Shrinav Loka**\n",
    "\n",
    "___\n",
    "\n",
    "## Contributions\n",
    "\n",
    "### Eric\n",
    "- **Project Idea**: Found the heart disease dataset on kaggle.\n",
    "- **Dataset Curation and Preprocessing**: Mapped 2022 data columns into their matching 2020 columns, also worked on a chi squared test for BMI and heart disease\n",
    "- **ML Algorithm Design/Development**: tweaked with DecisionTree, Logistic Regression, and XGBoost ML algorithms\n",
    "- **ML Algorithm Training and Test Data Analysis**: Created analysis for how various factors related to heartDisease\n",
    "\n",
    "\n",
    "### Krishnan\n",
    "- **Data Exploration and Summary Statistics**: Conducted a t-test to determine whether there was a significant difference in the average sleep time between those with heart disease and those without heart disease, or not\n",
    "- **ML Algorithm Design/Development**: Tested different ML algorithms and settled on DecisionTree, Logistic Regression, and XBoost due to their ability to address class imbalances\n",
    "- **ML Algorithm Training and Test Data Analysis**: Applied properties to increase the recall and precision of the models used\n",
    "- **Visualization, Result Analysis, Conclusion**: Created visualizations for the precision and accuracy of the models used\n",
    "- **Final Tutorial Report Creation**: Formatted the entire report, made it readable.\n",
    "\n",
    "### Shrinav\n",
    "- **Data Exploration and Summary Statistics**:\n",
    "- **ML Algorithm Design/Development**:\n",
    "- **ML Algorithm Training and Test Data Analysis**:\n",
    "- **Visualization, Result Analysis, Conclusion**:\n",
    "- **Final Tutorial Report Creation**:\n",
    "\n",
    "___\n",
    "\n",
    "## Introduction\n",
    "\n",
    "For this project, our main topic is to understand the various factors that contribute to people getting Heart Disease. As many may know, certain factors, such as smoking and unhealthy lifestyle have some part in causing heart disease. However, we hope to understand to what degrees and also understand if there are other, unknown factors that impact heart health.\n",
    "\n",
    "As heart disease is one of the most significiant causes of death within the United States - and more importantly within the world in general - understanding to what degree current causes impact heart disease as well as possibly identifiying other factors can help people make better, more informed choices to maximize their chances of avoiding heart disease.\n",
    "\n",
    "___\n",
    "\n",
    "## Data Curation\n",
    "\n",
    "Our data comes from downloading the data from the [Kaggle Heart Disease Dataset](https://www.kaggle.com/datasets/kamilpytlak/personal-key-indicators-of-heart-disease). However, the dataset indicates that the data was created using an aggregate of data from the CDC, with data coming from [2020](https://www.cdc.gov/brfss/annual_data/annual_2020.html) and [2022](https://www.cdc.gov/brfss/annual_data/annual_2022.html). The data was stored in two folders called \"2020\" and \"2022\" which each contained .csv files that contained the data for their respective years."
   ]
  },
  {
   "cell_type": "code",
   "execution_count": 64,
   "id": "f492ecdf-e9d7-4ccf-9335-69d10b4f80b6",
   "metadata": {
    "id": "f492ecdf-e9d7-4ccf-9335-69d10b4f80b6"
   },
   "outputs": [],
   "source": [
    "import pandas as pd\n",
    "import matplotlib.pyplot as plt\n",
    "import scipy.stats\n",
    "from scipy.stats import f_oneway\n",
    "from sklearn.tree import DecisionTreeClassifier, plot_tree\n",
    "from sklearn.preprocessing import MinMaxScaler\n",
    "from sklearn.utils import resample\n",
    "from sklearn.model_selection import train_test_split, cross_val_score, StratifiedKFold\n",
    "from sklearn.metrics import accuracy_score, classification_report, recall_score\n",
    "from xgboost import XGBClassifier\n",
    "from sklearn.neighbors import KNeighborsClassifier\n",
    "from sklearn.linear_model import LogisticRegression"
   ]
  },
  {
   "cell_type": "code",
   "execution_count": 65,
   "id": "d3ce06b3-9717-44ec-8d54-701599c0d54c",
   "metadata": {
    "id": "d3ce06b3-9717-44ec-8d54-701599c0d54c"
   },
   "outputs": [],
   "source": [
    "df2020 = pd.read_csv(\"heart_2020_cleaned.csv\")\n",
    "df2022 = pd.read_csv(\"heart_2022_no_nans.csv\")"
   ]
  },
  {
   "cell_type": "code",
   "execution_count": 46,
   "id": "d6a7fffd-a8d9-40ca-bb36-cab12b917bc3",
   "metadata": {
    "colab": {
     "base_uri": "https://localhost:8080/"
    },
    "id": "d6a7fffd-a8d9-40ca-bb36-cab12b917bc3",
    "outputId": "d9cfa095-6e18-4524-a673-b2b4bbcf41fe"
   },
   "outputs": [
    {
     "name": "stdout",
     "output_type": "stream",
     "text": [
      "Index(['HeartDisease', 'BMI', 'Smoking', 'AlcoholDrinking', 'Stroke',\n",
      "       'PhysicalHealth', 'MentalHealth', 'DiffWalking', 'Sex', 'AgeCategory',\n",
      "       'Race', 'Diabetic', 'PhysicalActivity', 'GenHealth', 'SleepTime',\n",
      "       'Asthma', 'KidneyDisease', 'SkinCancer'],\n",
      "      dtype='object')\n",
      "Index(['State', 'Sex', 'GeneralHealth', 'PhysicalHealthDays',\n",
      "       'MentalHealthDays', 'LastCheckupTime', 'PhysicalActivities',\n",
      "       'SleepHours', 'RemovedTeeth', 'HadHeartAttack', 'HadAngina',\n",
      "       'HadStroke', 'HadAsthma', 'HadSkinCancer', 'HadCOPD',\n",
      "       'HadDepressiveDisorder', 'HadKidneyDisease', 'HadArthritis',\n",
      "       'HadDiabetes', 'DeafOrHardOfHearing', 'BlindOrVisionDifficulty',\n",
      "       'DifficultyConcentrating', 'DifficultyWalking',\n",
      "       'DifficultyDressingBathing', 'DifficultyErrands', 'SmokerStatus',\n",
      "       'ECigaretteUsage', 'ChestScan', 'RaceEthnicityCategory', 'AgeCategory',\n",
      "       'HeightInMeters', 'WeightInKilograms', 'BMI', 'AlcoholDrinkers',\n",
      "       'HIVTesting', 'FluVaxLast12', 'PneumoVaxEver', 'TetanusLast10Tdap',\n",
      "       'HighRiskLastYear', 'CovidPos'],\n",
      "      dtype='object')\n",
      "Index(['BMI', 'Sex', 'AgeCategory'], dtype='object')\n"
     ]
    }
   ],
   "source": [
    "print(df2020.columns)\n",
    "print(df2022.columns)\n",
    "print(df2020.columns.intersection(df2022.columns))"
   ]
  },
  {
   "cell_type": "markdown",
   "id": "e45f92a9-1bad-46dd-a3a1-964d2c21d0b8",
   "metadata": {
    "id": "e45f92a9-1bad-46dd-a3a1-964d2c21d0b8"
   },
   "source": [
    "___\n",
    "## Data Transformation\n",
    "As we can see from the above, which lists the columns in both 2020 and 2022, there is not a perfect match of columns in both name and number. However, we will attempt to map some of the 2022 column names into their matching names in 2020 to attempt to obtain a more comprehensive dataset."
   ]
  },
  {
   "cell_type": "code",
   "execution_count": 47,
   "id": "07d0e3c3-c904-484a-ba5e-36d55abdf894",
   "metadata": {
    "id": "07d0e3c3-c904-484a-ba5e-36d55abdf894"
   },
   "outputs": [],
   "source": [
    "df2022[\"KidneyDisease\"] = df2022[\"HadKidneyDisease\"]\n",
    "df2022[\"SkinCancer\"] = df2022[\"HadSkinCancer\"]\n",
    "df2022[\"Asthma\"] = df2022[\"HadAsthma\"]\n",
    "df2022[\"PhysicalActivity\"] = df2022[\"PhysicalActivities\"]\n",
    "df2022[\"Diabetes\"] = df2022[\"HadDiabetes\"]\n",
    "df2022[\"SleepTime\"] = df2022[\"SleepHours\"]\n",
    "df2022[\"GenHealth\"] = df2022[\"GeneralHealth\"]\n",
    "df2022[\"Race\"] = df2022[\"RaceEthnicityCategory\"]\n",
    "df2022[\"DiffWalking\"] = df2022[\"DifficultyWalking\"]\n",
    "df2022[\"PhysicalHealth\"] = df2022[\"PhysicalHealthDays\"]\n",
    "df2022[\"MentalHealth\"] = df2022[\"MentalHealthDays\"]\n",
    "df2022[\"Stroke\"] = df2022[\"HadStroke\"]\n",
    "df2022[\"AlcoholDrinking\"] = df2022[\"AlcoholDrinkers\"]\n",
    "df2022[\"Smoking\"] = df2022[\"SmokerStatus\"]"
   ]
  },
  {
   "cell_type": "markdown",
   "id": "839fdf5a-6a14-42a2-ac10-fca8ba2930e7",
   "metadata": {},
   "source": [
    "___\n",
    "## Data Exploration"
   ]
  },
  {
   "cell_type": "markdown",
   "id": "35653465-cbab-4921-a438-bce174caef99",
   "metadata": {
    "id": "35653465-cbab-4921-a438-bce174caef99"
   },
   "source": [
    "### 1. Eric\n",
    "#### Created a histogram for 2020's AgeCategory, and saw if there was a correlation between BMI and if they had heart disease."
   ]
  },
  {
   "cell_type": "markdown",
   "id": "ebe10392-4038-414c-9625-709e5113a46a",
   "metadata": {
    "id": "ebe10392-4038-414c-9625-709e5113a46a"
   },
   "source": [
    "```\n",
    "Null Hypothesis: There is no association between BMI and Heart Disease\n",
    "\n",
    "Alternative Hypothesis: There is an association between BMI and Heart Disease\n",
    "\n",
    "alpha = 0.05\n",
    "```"
   ]
  },
  {
   "cell_type": "code",
   "execution_count": 48,
   "id": "490c29c8-52b1-44d5-a5ae-f9fd63855b90",
   "metadata": {
    "colab": {
     "base_uri": "https://localhost:8080/",
     "height": 460
    },
    "id": "490c29c8-52b1-44d5-a5ae-f9fd63855b90",
    "outputId": "f1abeef8-11f6-47bb-9e3e-c43f4976a816"
   },
   "outputs": [
    {
     "data": {
      "image/png": "[encoded data removed]",
      "text/plain": [
       "<Figure size 2000x1000 with 2 Axes>"
      ]
     },
     "metadata": {},
     "output_type": "display_data"
    }
   ],
   "source": [
    "fig, (ax1, ax2) = plt.subplots(2, 1, figsize=(20, 10))\n",
    "\n",
    "ax1.hist(df2020[df2020[\"HeartDisease\"] == \"Yes\"][\"BMI\"], bins=40)\n",
    "ax2.hist(df2020[df2020[\"HeartDisease\"] == \"No\"][\"BMI\"], bins=40)\n",
    "\n",
    "ax1.set_title('BMI Histogram for Heart Disease Patients')\n",
    "ax2.set_title('BMI Histogram for Non Heart Disease Patients')\n",
    "\n",
    "for ax in (ax1, ax2):\n",
    "    ax.set_xlabel(\"BMI\")\n",
    "    ax.set_ylabel(\"Count\")\n",
    "    ax.set_xbound(lower=0, upper=80)"
   ]
  },
  {
   "cell_type": "code",
   "execution_count": 49,
   "id": "5f35604f-e1b0-461b-bd8b-a90d1117540a",
   "metadata": {
    "colab": {
     "base_uri": "https://localhost:8080/",
     "height": 1000
    },
    "id": "5f35604f-e1b0-461b-bd8b-a90d1117540a",
    "outputId": "d95fc2ba-62c1-4216-adf6-8762d6bc8bf8"
   },
   "outputs": [
    {
     "data": {
      "text/html": [
       "<div>\n",
       "<style scoped>\n",
       "    .dataframe tbody tr th:only-of-type {\n",
       "        vertical-align: middle;\n",
       "    }\n",
       "\n",
       "    .dataframe tbody tr th {\n",
       "        vertical-align: top;\n",
       "    }\n",
       "\n",
       "    .dataframe thead th {\n",
       "        text-align: right;\n",
       "    }\n",
       "</style>\n",
       "<table border=\"1\" class=\"dataframe\">\n",
       "  <thead>\n",
       "    <tr style=\"text-align: right;\">\n",
       "      <th>HeartDisease</th>\n",
       "      <th>No</th>\n",
       "      <th>Yes</th>\n",
       "    </tr>\n",
       "    <tr>\n",
       "      <th>BMI</th>\n",
       "      <th></th>\n",
       "      <th></th>\n",
       "    </tr>\n",
       "  </thead>\n",
       "  <tbody>\n",
       "    <tr>\n",
       "      <th>(11.937, 14.091]</th>\n",
       "      <td>119</td>\n",
       "      <td>14</td>\n",
       "    </tr>\n",
       "    <tr>\n",
       "      <th>(14.091, 16.162]</th>\n",
       "      <td>607</td>\n",
       "      <td>69</td>\n",
       "    </tr>\n",
       "    <tr>\n",
       "      <th>(16.162, 18.232]</th>\n",
       "      <td>2984</td>\n",
       "      <td>237</td>\n",
       "    </tr>\n",
       "    <tr>\n",
       "      <th>(18.232, 20.303]</th>\n",
       "      <td>12437</td>\n",
       "      <td>817</td>\n",
       "    </tr>\n",
       "    <tr>\n",
       "      <th>(20.303, 22.374]</th>\n",
       "      <td>27722</td>\n",
       "      <td>1701</td>\n",
       "    </tr>\n",
       "    <tr>\n",
       "      <th>(22.374, 24.444]</th>\n",
       "      <td>43499</td>\n",
       "      <td>3178</td>\n",
       "    </tr>\n",
       "    <tr>\n",
       "      <th>(24.444, 26.515]</th>\n",
       "      <td>42045</td>\n",
       "      <td>3694</td>\n",
       "    </tr>\n",
       "    <tr>\n",
       "      <th>(26.515, 28.586]</th>\n",
       "      <td>45920</td>\n",
       "      <td>4347</td>\n",
       "    </tr>\n",
       "    <tr>\n",
       "      <th>(28.586, 30.657]</th>\n",
       "      <td>33924</td>\n",
       "      <td>3627</td>\n",
       "    </tr>\n",
       "    <tr>\n",
       "      <th>(30.657, 32.728]</th>\n",
       "      <td>26365</td>\n",
       "      <td>2896</td>\n",
       "    </tr>\n",
       "    <tr>\n",
       "      <th>(32.728, 34.798]</th>\n",
       "      <td>18216</td>\n",
       "      <td>2085</td>\n",
       "    </tr>\n",
       "    <tr>\n",
       "      <th>(34.798, 36.869]</th>\n",
       "      <td>12267</td>\n",
       "      <td>1483</td>\n",
       "    </tr>\n",
       "    <tr>\n",
       "      <th>(36.869, 38.94]</th>\n",
       "      <td>8390</td>\n",
       "      <td>995</td>\n",
       "    </tr>\n",
       "    <tr>\n",
       "      <th>(38.94, 41.01]</th>\n",
       "      <td>5978</td>\n",
       "      <td>714</td>\n",
       "    </tr>\n",
       "    <tr>\n",
       "      <th>(41.01, 43.081]</th>\n",
       "      <td>4062</td>\n",
       "      <td>517</td>\n",
       "    </tr>\n",
       "    <tr>\n",
       "      <th>(43.081, 45.152]</th>\n",
       "      <td>2355</td>\n",
       "      <td>316</td>\n",
       "    </tr>\n",
       "    <tr>\n",
       "      <th>(45.152, 47.223]</th>\n",
       "      <td>1793</td>\n",
       "      <td>184</td>\n",
       "    </tr>\n",
       "    <tr>\n",
       "      <th>(47.223, 49.293]</th>\n",
       "      <td>1204</td>\n",
       "      <td>171</td>\n",
       "    </tr>\n",
       "    <tr>\n",
       "      <th>(49.293, 51.364]</th>\n",
       "      <td>763</td>\n",
       "      <td>100</td>\n",
       "    </tr>\n",
       "    <tr>\n",
       "      <th>(51.364, 53.435]</th>\n",
       "      <td>588</td>\n",
       "      <td>85</td>\n",
       "    </tr>\n",
       "    <tr>\n",
       "      <th>(53.435, 55.506]</th>\n",
       "      <td>349</td>\n",
       "      <td>32</td>\n",
       "    </tr>\n",
       "    <tr>\n",
       "      <th>(55.506, 57.576]</th>\n",
       "      <td>216</td>\n",
       "      <td>32</td>\n",
       "    </tr>\n",
       "    <tr>\n",
       "      <th>(57.576, 59.647]</th>\n",
       "      <td>169</td>\n",
       "      <td>20</td>\n",
       "    </tr>\n",
       "    <tr>\n",
       "      <th>(59.647, 61.718]</th>\n",
       "      <td>106</td>\n",
       "      <td>13</td>\n",
       "    </tr>\n",
       "    <tr>\n",
       "      <th>(61.718, 63.789]</th>\n",
       "      <td>97</td>\n",
       "      <td>17</td>\n",
       "    </tr>\n",
       "    <tr>\n",
       "      <th>(63.789, 65.86]</th>\n",
       "      <td>59</td>\n",
       "      <td>11</td>\n",
       "    </tr>\n",
       "    <tr>\n",
       "      <th>(65.86, 67.93]</th>\n",
       "      <td>40</td>\n",
       "      <td>2</td>\n",
       "    </tr>\n",
       "    <tr>\n",
       "      <th>(67.93, 70.001]</th>\n",
       "      <td>32</td>\n",
       "      <td>3</td>\n",
       "    </tr>\n",
       "    <tr>\n",
       "      <th>(70.001, 72.072]</th>\n",
       "      <td>27</td>\n",
       "      <td>2</td>\n",
       "    </tr>\n",
       "    <tr>\n",
       "      <th>(72.072, 74.142]</th>\n",
       "      <td>21</td>\n",
       "      <td>3</td>\n",
       "    </tr>\n",
       "    <tr>\n",
       "      <th>(74.142, 76.213]</th>\n",
       "      <td>18</td>\n",
       "      <td>2</td>\n",
       "    </tr>\n",
       "    <tr>\n",
       "      <th>(76.213, 78.284]</th>\n",
       "      <td>12</td>\n",
       "      <td>2</td>\n",
       "    </tr>\n",
       "    <tr>\n",
       "      <th>(78.284, 80.355]</th>\n",
       "      <td>9</td>\n",
       "      <td>2</td>\n",
       "    </tr>\n",
       "    <tr>\n",
       "      <th>(80.355, 82.425]</th>\n",
       "      <td>4</td>\n",
       "      <td>0</td>\n",
       "    </tr>\n",
       "    <tr>\n",
       "      <th>(82.425, 84.496]</th>\n",
       "      <td>9</td>\n",
       "      <td>2</td>\n",
       "    </tr>\n",
       "    <tr>\n",
       "      <th>(84.496, 86.567]</th>\n",
       "      <td>3</td>\n",
       "      <td>0</td>\n",
       "    </tr>\n",
       "    <tr>\n",
       "      <th>(86.567, 88.638]</th>\n",
       "      <td>5</td>\n",
       "      <td>0</td>\n",
       "    </tr>\n",
       "    <tr>\n",
       "      <th>(90.708, 92.779]</th>\n",
       "      <td>4</td>\n",
       "      <td>0</td>\n",
       "    </tr>\n",
       "    <tr>\n",
       "      <th>(92.779, 94.85]</th>\n",
       "      <td>4</td>\n",
       "      <td>0</td>\n",
       "    </tr>\n",
       "  </tbody>\n",
       "</table>\n",
       "</div>"
      ],
      "text/plain": [
       "HeartDisease         No   Yes\n",
       "BMI                          \n",
       "(11.937, 14.091]    119    14\n",
       "(14.091, 16.162]    607    69\n",
       "(16.162, 18.232]   2984   237\n",
       "(18.232, 20.303]  12437   817\n",
       "(20.303, 22.374]  27722  1701\n",
       "(22.374, 24.444]  43499  3178\n",
       "(24.444, 26.515]  42045  3694\n",
       "(26.515, 28.586]  45920  4347\n",
       "(28.586, 30.657]  33924  3627\n",
       "(30.657, 32.728]  26365  2896\n",
       "(32.728, 34.798]  18216  2085\n",
       "(34.798, 36.869]  12267  1483\n",
       "(36.869, 38.94]    8390   995\n",
       "(38.94, 41.01]     5978   714\n",
       "(41.01, 43.081]    4062   517\n",
       "(43.081, 45.152]   2355   316\n",
       "(45.152, 47.223]   1793   184\n",
       "(47.223, 49.293]   1204   171\n",
       "(49.293, 51.364]    763   100\n",
       "(51.364, 53.435]    588    85\n",
       "(53.435, 55.506]    349    32\n",
       "(55.506, 57.576]    216    32\n",
       "(57.576, 59.647]    169    20\n",
       "(59.647, 61.718]    106    13\n",
       "(61.718, 63.789]     97    17\n",
       "(63.789, 65.86]      59    11\n",
       "(65.86, 67.93]       40     2\n",
       "(67.93, 70.001]      32     3\n",
       "(70.001, 72.072]     27     2\n",
       "(72.072, 74.142]     21     3\n",
       "(74.142, 76.213]     18     2\n",
       "(76.213, 78.284]     12     2\n",
       "(78.284, 80.355]      9     2\n",
       "(80.355, 82.425]      4     0\n",
       "(82.425, 84.496]      9     2\n",
       "(84.496, 86.567]      3     0\n",
       "(86.567, 88.638]      5     0\n",
       "(90.708, 92.779]      4     0\n",
       "(92.779, 94.85]       4     0"
      ]
     },
     "execution_count": 49,
     "metadata": {},
     "output_type": "execute_result"
    }
   ],
   "source": [
    "data_crosstab = pd.crosstab(pd.cut(df2020[\"BMI\"], 40), df2020[\"HeartDisease\"])\n",
    "data_crosstab"
   ]
  },
  {
   "cell_type": "code",
   "execution_count": 50,
   "id": "d6d0bd80-1df6-482d-acb0-900a4fae2cc3",
   "metadata": {
    "colab": {
     "base_uri": "https://localhost:8080/"
    },
    "id": "d6d0bd80-1df6-482d-acb0-900a4fae2cc3",
    "outputId": "918ff61b-49b0-4edf-fdb9-5a2829264a44",
    "scrolled": true
   },
   "outputs": [
    {
     "data": {
      "text/plain": [
       "Chi2ContingencyResult(statistic=np.float64(1126.2923927124457), pvalue=np.float64(1.4048700491399771e-211), dof=38, expected_freq=array([[1.21615804e+02, 1.13841961e+01],\n",
       "       [6.18137469e+02, 5.78625307e+01],\n",
       "       [2.94529702e+03, 2.75702975e+02],\n",
       "       [1.21195178e+04, 1.13448222e+03],\n",
       "       [2.69045248e+04, 2.51847521e+03],\n",
       "       [4.26816607e+04, 3.99533927e+03],\n",
       "       [4.18239493e+04, 3.91505073e+03],\n",
       "       [4.59643730e+04, 4.30262697e+03],\n",
       "       [3.43368049e+04, 3.21419510e+03],\n",
       "       [2.67563913e+04, 2.50460874e+03],\n",
       "       [1.85633266e+04, 1.73767343e+03],\n",
       "       [1.25730624e+04, 1.17693757e+03],\n",
       "       [8.58168661e+03, 8.03313388e+02],\n",
       "       [6.11919518e+03, 5.72804816e+02],\n",
       "       [4.18705839e+03, 3.91941609e+02],\n",
       "       [2.44237453e+03, 2.28625473e+02],\n",
       "       [1.80777778e+03, 1.69222224e+02],\n",
       "       [1.25730624e+03, 1.17693757e+02],\n",
       "       [7.89131118e+02, 7.38688816e+01],\n",
       "       [6.15394256e+02, 5.76057443e+01],\n",
       "       [3.48388130e+02, 3.26118701e+01],\n",
       "       [2.26772326e+02, 2.12276740e+01],\n",
       "       [1.72822458e+02, 1.61775419e+01],\n",
       "       [1.08814140e+02, 1.01858597e+01],\n",
       "       [1.04242118e+02, 9.75788239e+00],\n",
       "       [6.40083178e+01, 5.99168217e+00],\n",
       "       [3.84049907e+01, 3.59500930e+00],\n",
       "       [3.20041589e+01, 2.99584109e+00],\n",
       "       [2.65177317e+01, 2.48226833e+00],\n",
       "       [2.19457090e+01, 2.05429103e+00],\n",
       "       [1.82880908e+01, 1.71190919e+00],\n",
       "       [1.28016636e+01, 1.19833643e+00],\n",
       "       [1.00584499e+01, 9.41550056e-01],\n",
       "       [3.65761816e+00, 3.42381838e-01],\n",
       "       [1.00584499e+01, 9.41550056e-01],\n",
       "       [2.74321362e+00, 2.56786379e-01],\n",
       "       [4.57202270e+00, 4.27977298e-01],\n",
       "       [3.65761816e+00, 3.42381838e-01],\n",
       "       [3.65761816e+00, 3.42381838e-01]]))"
      ]
     },
     "execution_count": 50,
     "metadata": {},
     "output_type": "execute_result"
    }
   ],
   "source": [
    "chi_contingency = scipy.stats.contingency.chi2_contingency(data_crosstab)\n",
    "chi_contingency"
   ]
  },
  {
   "cell_type": "markdown",
   "id": "55bd91f5-5fa1-489e-9b82-eefa3eb2b5aa",
   "metadata": {
    "id": "55bd91f5-5fa1-489e-9b82-eefa3eb2b5aa"
   },
   "source": [
    "#### Conclusion\n",
    "\n",
    "As we can see from the chi square test, comparing the distribution of BMI's of individuals without heart disease and BMI's of individuals with heart disease, we optain a p-value of 1.404e-211, which is less than our alpha of 0.05. As such we reject the null hypothesis, and conclude that there is an association between heart disease and bmi"
   ]
  },
  {
   "cell_type": "markdown",
   "id": "a6fa0b4d-4115-4666-a135-6b049428a5e7",
   "metadata": {
    "id": "a6fa0b4d-4115-4666-a135-6b049428a5e7"
   },
   "source": [
    "### 2. Krishnan\n",
    "\n",
    "```\n",
    "Null Hypothesis: There is no significant difference in the average sleep time between people with heart disease and those without heart disease\n",
    "\n",
    "Alternative Hypothesis: There is a significant difference in the average sleep time between people with heart disease and those without heart disease.\n",
    "\n",
    "alpha = 0.05\n",
    "```"
   ]
  },
  {
   "cell_type": "code",
   "execution_count": 51,
   "id": "b4986c11-9ff4-413b-9c57-bbb651b69f85",
   "metadata": {
    "colab": {
     "base_uri": "https://localhost:8080/",
     "height": 848
    },
    "id": "b4986c11-9ff4-413b-9c57-bbb651b69f85",
    "outputId": "ff263cc2-150b-4ba9-c4ba-0f238d738bbd"
   },
   "outputs": [
    {
     "data": {
      "image/png": "[encoded data removed]",
      "text/plain": [
       "<Figure size 1000x1000 with 2 Axes>"
      ]
     },
     "metadata": {},
     "output_type": "display_data"
    }
   ],
   "source": [
    "sleeptime_heart_disease = df2020[df2020[\"HeartDisease\"] == \"Yes\"][\"SleepTime\"]\n",
    "sleeptime_no_heart_disease = df2020[df2020[\"HeartDisease\"] == \"No\"][\"SleepTime\"]\n",
    "\n",
    "fig, (ax1, ax2) = plt.subplots(2, 1, figsize=(10, 10))\n",
    "\n",
    "ax1.hist(sleeptime_heart_disease)\n",
    "ax2.hist(sleeptime_no_heart_disease)\n",
    "\n",
    "ax1.set_title('Sleep Time Histogram for Heart Disease Patients')\n",
    "ax2.set_title('Sleep Time Histogram for Non Heart Disease Patients')\n",
    "\n",
    "for ax in (ax1, ax2):\n",
    "    ax.set_xlabel(\"Sleep Time (Hours)\")\n",
    "    ax.set_ylabel(\"Count\")"
   ]
  },
  {
   "cell_type": "markdown",
   "id": "7b01df0f-c73b-45a3-a3e0-6eaeff4e142b",
   "metadata": {
    "id": "7b01df0f-c73b-45a3-a3e0-6eaeff4e142b"
   },
   "source": [
    "#### Explanation\n",
    "I conducted a t-test to determine whether there was a significant difference in the average sleep time between those with heart disease and those without heart disease, or not. I used a t-test for this hypothesis since I am comparing the same mean values (sleep time) between two independent groups (heart disease and no heart disease). The data meets the normality condition required for the t-test because according to the **Central Limit Theorem**, distributions with greater than 30 samples are normal. The distributions of sleep times for people with and without heart disease have greater than 30 samples each."
   ]
  },
  {
   "cell_type": "code",
   "execution_count": 52,
   "id": "47de6764-64fb-4675-89df-1f221bf42b4b",
   "metadata": {
    "colab": {
     "base_uri": "https://localhost:8080/"
    },
    "id": "47de6764-64fb-4675-89df-1f221bf42b4b",
    "outputId": "70623621-d4fd-405b-85d3-bd3505df77bd"
   },
   "outputs": [
    {
     "name": "stdout",
     "output_type": "stream",
     "text": [
      "Test Statistic: 4.7089022884677565\n",
      "P-Value: 2.4915865758826605e-06\n"
     ]
    }
   ],
   "source": [
    "t_test = scipy.stats.ttest_ind(sleeptime_heart_disease, sleeptime_no_heart_disease)\n",
    "print(f\"Test Statistic: {t_test.statistic}\")\n",
    "print(f\"P-Value: {t_test.pvalue}\")"
   ]
  },
  {
   "cell_type": "markdown",
   "id": "f419568f-1f63-4714-a39e-d021ba7cc452",
   "metadata": {
    "id": "f419568f-1f63-4714-a39e-d021ba7cc452"
   },
   "source": [
    "#### Conclusion"
   ]
  },
  {
   "cell_type": "markdown",
   "id": "fca8fb17-b373-422d-b242-227e700ebd71",
   "metadata": {
    "id": "fca8fb17-b373-422d-b242-227e700ebd71"
   },
   "source": [
    "Since I obtained a p-value of **2.4915865758826605e-06** from the t-test, which is less than our significance level of 0.05, I reject the null hypothesis. **Therefore, there is a significant difference in the average sleep time between those with heart disease and without heart disease**"
   ]
  },
  {
   "cell_type": "markdown",
   "id": "5xqWdErMzNBL",
   "metadata": {
    "id": "5xqWdErMzNBL"
   },
   "source": [
    "### 3. Shrinav\n",
    "\n",
    "```\n",
    "Null Hypothesis: There is no difference in average sleep time among different general health categories\n",
    "\n",
    "Alternative Hypothesis: At least one general health category has an average sleep time significantly different from the others\n",
    "```"
   ]
  },
  {
   "cell_type": "code",
   "execution_count": 53,
   "id": "or3cX7dCzV6R",
   "metadata": {
    "colab": {
     "base_uri": "https://localhost:8080/"
    },
    "id": "or3cX7dCzV6R",
    "outputId": "0106cbf4-1a01-4561-8155-ed2617e8bc36"
   },
   "outputs": [
    {
     "name": "stdout",
     "output_type": "stream",
     "text": [
      "2.712731102759204e-284\n"
     ]
    }
   ],
   "source": [
    "df = df2020\n",
    "groups = df.groupby('GenHealth')['SleepTime'].apply(list)\n",
    "\n",
    "anova = f_oneway(*groups)\n",
    "\n",
    "print(anova.pvalue)"
   ]
  },
  {
   "cell_type": "code",
   "execution_count": 54,
   "id": "yh-9pUaUzf6J",
   "metadata": {
    "colab": {
     "base_uri": "https://localhost:8080/",
     "height": 472
    },
    "id": "yh-9pUaUzf6J",
    "outputId": "99e37177-cad3-4def-98ab-0c51ff5b9cdf"
   },
   "outputs": [
    {
     "data": {
      "image/png": "[encoded data removed]",
      "text/plain": [
       "<Figure size 640x480 with 1 Axes>"
      ]
     },
     "metadata": {},
     "output_type": "display_data"
    }
   ],
   "source": [
    "cats = ['Excellent', 'Very good', 'Good', 'Fair', 'Poor']\n",
    "data_to_plot = [df[df['GenHealth'] == category]['SleepTime'] for category in cats]\n",
    "\n",
    "plt.boxplot(data_to_plot, tick_labels=cats)\n",
    "\n",
    "plt.title('Comparison of Sleep Time across General Health Categories')\n",
    "plt.xlabel('General Health')\n",
    "plt.ylabel('Sleep Time (hours)')\n",
    "plt.show()\n"
   ]
  },
  {
   "cell_type": "markdown",
   "id": "LeJ0pgX6zqpq",
   "metadata": {
    "id": "LeJ0pgX6zqpq"
   },
   "source": [
    "#### Conclusion\n",
    "\n",
    "Since our p-value is less than 0.05, we reject the null hypothesis, meaning there is a statistically significant difference in average sleep time among the different general health categories. This indicates that at least one general health group differs notably from the others in terms of sleep duration.\n",
    "___"
   ]
  },
  {
   "cell_type": "markdown",
   "id": "20d144f5-4516-47ef-b7f6-b39b8a796955",
   "metadata": {
    "id": "20d144f5-4516-47ef-b7f6-b39b8a796955"
   },
   "source": [
    "# Primary Analysis\n",
    "\n",
    "Now that we have explored the data, we will now move on to applying machine learning onto the data. Our goal will be to predict the probaility of an individual having heart diease based on their information. As there is \"no one size fits all\" model for machine learning, we will be using a variety of models from KNNs to DecisionTrees, LogisticRegression, and even Gradient Boosted trees.\n",
    "\n",
    "We will be using the models from Sklearn and XGBoost library. Below, we create all the models and compare their accuracies and f1 scores."
   ]
  },
  {
   "cell_type": "code",
   "execution_count": 55,
   "id": "e71393f3-3572-4caf-bda3-06eadccbc320",
   "metadata": {
    "id": "aa3a7f56-0ef7-4a98-9050-06a1953567c4"
   },
   "outputs": [
    {
     "name": "stdout",
     "output_type": "stream",
     "text": [
      "Yes  \n",
      "False    234055\n",
      "True      21781\n",
      "Name: count, dtype: int64\n"
     ]
    }
   ],
   "source": [
    "Y = pd.get_dummies(df2020[\"HeartDisease\"], drop_first=True)\n",
    "X = pd.get_dummies(df2020[['BMI', 'Smoking', 'AlcoholDrinking', 'Stroke', 'PhysicalHealth', 'MentalHealth', 'DiffWalking', 'Sex',\n",
    "           'Race', 'Diabetic', 'PhysicalActivity', 'GenHealth', 'SleepTime', 'Asthma', 'KidneyDisease', 'SkinCancer']], drop_first=True)\n",
    "\n",
    "X_train, X_test, y_train, y_test = train_test_split(X, Y, random_state=42, test_size=0.2)\n",
    "\n",
    "print(y_train.value_counts())"
   ]
  },
  {
   "cell_type": "markdown",
   "id": "d544cf0d-90e9-4bea-931b-fc18e71652d1",
   "metadata": {},
   "source": [
    "We can see that the data is highly imbalanced. There are significantly more people without heart disease (False) than with heart disease (True). As a consequence, a machine learning model trained on this data without addressing the imbalance may become biased toward predicting the majority class (people without heart disease). This means the model might predict \"No Heart Disease\" for most cases, resulting in high overall accuracy but poor performance in identifying individuals who actually have heart disease.\n",
    "\n",
    "This is extremely problematic since, in a healthcare context, failing to identify a person at risk of heart disease could have serious consequences."
   ]
  },
  {
   "cell_type": "code",
   "execution_count": 66,
   "id": "99ad5659-ce2f-4acb-bfa0-f0a624e75db1",
   "metadata": {
    "id": "aa3a7f56-0ef7-4a98-9050-06a1953567c4"
   },
   "outputs": [],
   "source": [
    "y_train = y_train['Yes'].map({True: 1, False: 0})\n",
    "\n",
    "pos = sum(y_train == 1)\n",
    "neg = sum(y_train == 0)\n",
    "\n",
    "scale_pos_weight = neg / pos"
   ]
  },
  {
   "cell_type": "markdown",
   "id": "a99fab09-a9de-4324-9b39-33376c2479c6",
   "metadata": {},
   "source": [
    "This computes the class imbalance ratio, or how many times more common the negative class is than the positive class, so that we can account for it when training the XGBoost model."
   ]
  },
  {
   "cell_type": "code",
   "execution_count": 67,
   "id": "358b551f-68b4-4f07-91d7-96b4e711231f",
   "metadata": {
    "id": "358b551f-68b4-4f07-91d7-96b4e711231f"
   },
   "outputs": [],
   "source": [
    "models = {\n",
    "    \"DecisionTree\": DecisionTreeClassifier(random_state=42, max_depth=5, class_weight='balanced'),\n",
    "    \"LogisticRegression\": LogisticRegression(max_iter=1000, class_weight='balanced'),\n",
    "    \"XGBoost\": XGBClassifier(max_depth=20, learning_rate=0.5, objective='binary:logistic', scale_pos_weight=scale_pos_weight),\n",
    "    \"KNN1\": KNeighborsClassifier(n_neighbors=1),\n",
    "    \"KNN2\": KNeighborsClassifier(n_neighbors=2),\n",
    "    \"KNN3\": KNeighborsClassifier(n_neighbors=3),\n",
    "    \"KNN4\": KNeighborsClassifier(n_neighbors=4),\n",
    "    \"KNN5\": KNeighborsClassifier(n_neighbors=5),\n",
    "}"
   ]
  },
  {
   "cell_type": "markdown",
   "id": "91b5d4e2-a0e2-450d-bf32-6c38caf0cbc5",
   "metadata": {},
   "source": [
    "We have used the following models since they either have the \"class_weight\" property or \"scale_pos_weight\", which helps the model not bias toward the majority class."
   ]
  },
  {
   "cell_type": "code",
   "execution_count": 68,
   "id": "69472790-e520-448a-b9e2-1c3182896b0b",
   "metadata": {
    "id": "69472790-e520-448a-b9e2-1c3182896b0b",
    "outputId": "f2fd0c5a-a886-4393-9371-30bb0c7099c0"
   },
   "outputs": [
    {
     "name": "stdout",
     "output_type": "stream",
     "text": [
      "DecisionTree\n",
      "              precision    recall  f1-score   support\n",
      "\n",
      "       False       0.97      0.54      0.70     58367\n",
      "        True       0.15      0.81      0.25      5592\n",
      "\n",
      "    accuracy                           0.57     63959\n",
      "   macro avg       0.56      0.68      0.47     63959\n",
      "weighted avg       0.90      0.57      0.66     63959\n",
      "\n",
      "LogisticRegression\n",
      "              precision    recall  f1-score   support\n",
      "\n",
      "       False       0.98      0.45      0.62     58367\n",
      "        True       0.14      0.90      0.24      5592\n",
      "\n",
      "    accuracy                           0.49     63959\n",
      "   macro avg       0.56      0.68      0.43     63959\n",
      "weighted avg       0.91      0.49      0.59     63959\n",
      "\n",
      "XGBoost\n",
      "              precision    recall  f1-score   support\n",
      "\n",
      "       False       0.93      0.87      0.90     58367\n",
      "        True       0.19      0.31      0.23      5592\n",
      "\n",
      "    accuracy                           0.82     63959\n",
      "   macro avg       0.56      0.59      0.57     63959\n",
      "weighted avg       0.86      0.82      0.84     63959\n",
      "\n",
      "KNN1\n",
      "              precision    recall  f1-score   support\n",
      "\n",
      "       False       0.92      0.93      0.93     58367\n",
      "        True       0.19      0.16      0.17      5592\n",
      "\n",
      "    accuracy                           0.87     63959\n",
      "   macro avg       0.55      0.55      0.55     63959\n",
      "weighted avg       0.86      0.87      0.86     63959\n",
      "\n",
      "KNN2\n",
      "              precision    recall  f1-score   support\n",
      "\n",
      "       False       0.93      0.88      0.90     58367\n",
      "        True       0.18      0.29      0.22      5592\n",
      "\n",
      "    accuracy                           0.83     63959\n",
      "   macro avg       0.56      0.58      0.56     63959\n",
      "weighted avg       0.86      0.83      0.84     63959\n",
      "\n",
      "KNN3\n",
      "              precision    recall  f1-score   support\n",
      "\n",
      "       False       0.93      0.83      0.88     58367\n",
      "        True       0.18      0.38      0.24      5592\n",
      "\n",
      "    accuracy                           0.79     63959\n",
      "   macro avg       0.55      0.60      0.56     63959\n",
      "weighted avg       0.87      0.79      0.82     63959\n",
      "\n",
      "KNN4\n",
      "              precision    recall  f1-score   support\n",
      "\n",
      "       False       0.92      0.96      0.94     58367\n",
      "        True       0.26      0.14      0.18      5592\n",
      "\n",
      "    accuracy                           0.89     63959\n",
      "   macro avg       0.59      0.55      0.56     63959\n",
      "weighted avg       0.86      0.89      0.87     63959\n",
      "\n",
      "KNN5\n",
      "              precision    recall  f1-score   support\n",
      "\n",
      "       False       0.92      0.94      0.93     58367\n",
      "        True       0.25      0.20      0.22      5592\n",
      "\n",
      "    accuracy                           0.88     63959\n",
      "   macro avg       0.59      0.57      0.58     63959\n",
      "weighted avg       0.87      0.88      0.87     63959\n",
      "\n"
     ]
    }
   ],
   "source": [
    "for model_name, model in models.items():\n",
    "\n",
    "    model.fit(X_train, y_train)\n",
    "    y_pred = model.predict(X_test)\n",
    "\n",
    "    threshold = 0.3\n",
    "    y_probs = model.predict_proba(X_test)[:, 1]\n",
    "    y_pred_adjusted = (y_probs >= threshold).astype(int)\n",
    "\n",
    "    print(f\"{model_name}\")\n",
    "\n",
    "    print(classification_report(y_test, y_pred_adjusted))"
   ]
  },
  {
   "cell_type": "markdown",
   "id": "9fd0144c-a4a6-44cd-9edc-5b85a82ea96a",
   "metadata": {},
   "source": [
    "We have applied threshold adjustment (from the default of 0.5 to 0.3) to increase the sensitivity of the model, so that it can predict positive cases even with lower confidence, because missing a positive case (false negative) is more dangerous than a false positive."
   ]
  },
  {
   "cell_type": "code",
   "execution_count": 69,
   "id": "d5dd4766-92cb-4d81-84bf-0601bd288c82",
   "metadata": {
    "id": "d5dd4766-92cb-4d81-84bf-0601bd288c82",
    "outputId": "fe32c556-b729-48b0-e20a-fdf322f35879"
   },
   "outputs": [
    {
     "data": {
      "image/png": "[encoded data removed]",
      "text/plain": [
       "<Figure size 1000x600 with 1 Axes>"
      ]
     },
     "metadata": {},
     "output_type": "display_data"
    }
   ],
   "source": [
    "accuracies = []\n",
    "\n",
    "for model_name, model in models.items():\n",
    "    y_pred = model.predict(X_test)\n",
    "    accuracy = accuracy_score(y_test, y_pred)\n",
    "\n",
    "    accuracies += [[model_name, accuracy]]\n",
    "\n",
    "sorted_accuracies = dict(sorted(accuracies, key=lambda x: x[1], reverse=True))\n",
    "\n",
    "# Plot\n",
    "plt.figure(figsize=(10, 6))\n",
    "plt.bar(sorted_accuracies.keys(), sorted_accuracies.values(), color='skyblue')\n",
    "plt.xticks(rotation=45)\n",
    "plt.ylabel(\"Accuracy\")\n",
    "plt.title(\"Model Accuracy Comparison\")\n",
    "plt.ylim(0, 1)\n",
    "plt.grid(axis='y', linestyle='--', alpha=0.7)\n",
    "plt.tight_layout()\n",
    "plt.show()"
   ]
  },
  {
   "cell_type": "markdown",
   "id": "903f2b10-cc65-4bbb-92db-f322116f980f",
   "metadata": {},
   "source": [
    "### Analysis of Model Accuracy Comparison\n",
    "All models have high accuracy. However, XGBoost has the highest accuracy since it uses ensemble methods, which captures complex nonlinear relationships"
   ]
  },
  {
   "cell_type": "code",
   "execution_count": 70,
   "id": "abdea392-4815-4966-bd41-d4a0abe7a459",
   "metadata": {},
   "outputs": [
    {
     "data": {
      "image/png": "[encoded data removed]",
      "text/plain": [
       "<Figure size 1000x600 with 1 Axes>"
      ]
     },
     "metadata": {},
     "output_type": "display_data"
    }
   ],
   "source": [
    "recalls = []\n",
    "\n",
    "for model_name, model in models.items():\n",
    "    y_pred = model.predict(X_test)\n",
    "    recall = recall_score(y_test, y_pred, average='binary')\n",
    "\n",
    "    recalls += [[model_name, recall]]\n",
    "\n",
    "sorted_recalls = dict(sorted(recalls, key=lambda x: x[1], reverse=True))\n",
    "\n",
    "# Plot\n",
    "plt.figure(figsize=(10, 6))\n",
    "plt.bar(sorted_recalls.keys(), sorted_recalls.values(), color='lightcoral')\n",
    "plt.xticks(rotation=45)\n",
    "plt.ylabel(\"Recall\")\n",
    "plt.title(\"Model Recall Comparison\")\n",
    "plt.ylim(0, 1)\n",
    "plt.grid(axis='y', linestyle='--', alpha=0.7)\n",
    "plt.tight_layout()\n",
    "plt.show()"
   ]
  },
  {
   "cell_type": "markdown",
   "id": "bc1dab45-3ff8-413a-860c-55b6b155c8a1",
   "metadata": {},
   "source": [
    "### Analysis of Model Recall Comparison\n",
    "While XGBoost had the highest accuracy,  it has the lowest recall. This means that it fails to capture people who have heart disease, which may be detrimental to their health. Logistic Regression and Decision Tree have very similar recall values, with Logistic Regression being slightly higher. This indicates that they are much better at identifying those at risk of heart disease"
   ]
  },
  {
   "cell_type": "markdown",
   "id": "f01a6a44-a454-4e33-aa75-0b0a95905d6d",
   "metadata": {},
   "source": [
    "### Conclusion\n",
    "For health-related predictions, Logistic Regression appears to offer the most balanced performance among the models evaluated. It achieves a strong trade-off between accuracy and recall, making it suitable when the goal is to identify as many true positive cases as possible. This is especially important in medical contexts, where missing a true case can have life-threatening consequences.\n",
    "\n",
    "While models like XGBoost perform better in terms of overall accuracy, their low recall suggests they may overlook a significant number of positive cases. \n",
    "\n",
    "When prioritizing patient safety and early detection, Logistic Regression is the most appropriate choice."
   ]
  },
  {
   "cell_type": "markdown",
   "id": "87731450-d0e4-4046-9cc2-9dad89f55838",
   "metadata": {
    "id": "87731450-d0e4-4046-9cc2-9dad89f55838"
   },
   "source": [
    "___\n",
    "## Analysis of Logistic Regression\n",
    "\n",
    "From cofficients of the logistic regression, we can see that of the factors that significantly impact risk of heart disease are their general health score, if they suffered from other issues like strokes, diabetes, kidney disease, and cancer. This also gave some insight into lesser known causes. for example it showed that there is the gender of a person may impact their risk of heart disease as well as what race they were."
   ]
  },
  {
   "cell_type": "code",
   "execution_count": 61,
   "id": "66731031-1381-4006-a070-bb88d0b6491b",
   "metadata": {
    "id": "66731031-1381-4006-a070-bb88d0b6491b",
    "outputId": "b389e95c-2465-40ee-ed5b-3c55e569b25a"
   },
   "outputs": [
    {
     "name": "stdout",
     "output_type": "stream",
     "text": [
      "Coefficeient of GenHealth_Poor:       2.1600243938136097\n",
      "Coefficeient of GenHealth_Fair:       1.8166742199998005\n",
      "Coefficeient of Stroke_Yes:           1.3827570729562535\n",
      "Coefficeient of GenHealth_Good:       1.3021296561852649\n",
      "Coefficeient of Diabetic_Yes:         0.7982581317808476\n",
      "Coefficeient of KidneyDisease_Yes:    0.7783665356914546\n",
      "Coefficeient of GenHealth_Very good:  0.6615857905086914\n",
      "Coefficeient of SkinCancer_Yes:       0.6346508799663243\n",
      "Coefficeient of Sex_Male:             0.6173442682560613\n",
      "Coefficeient of DiffWalking_Yes:      0.6085428974060364\n",
      "Coefficeient of Race_Asian:           -0.576266741032911\n",
      "Coefficeient of AlcoholDrinking_Yes:  -0.4436030560593196\n",
      "Coefficeient of Diabetic_No, borderline diabetes: 0.43009754812400997\n",
      "Coefficeient of Smoking_Yes:          0.4274288918921791\n",
      "Coefficeient of Race_Hispanic:        -0.3611245105735373\n",
      "Coefficeient of Race_White:           0.20571643401577894\n",
      "Coefficeient of Race_Black:           -0.19562712970256957\n",
      "Coefficeient of Diabetic_Yes (during pregnancy): -0.14266256581280196\n",
      "Coefficeient of PhysicalActivity_Yes: -0.10141646018211711\n",
      "Coefficeient of Race_Other:           -0.07387223232281903\n",
      "Coefficeient of Asthma_Yes:           0.07253612289636818\n",
      "Coefficeient of SleepTime:            0.03509436275438709\n",
      "Coefficeient of MentalHealth:         -0.015387068640365152\n",
      "Coefficeient of BMI:                  -0.00921975436693827\n",
      "Coefficeient of PhysicalHealth:       0.005706210139759482\n"
     ]
    }
   ],
   "source": [
    "coefficients = models[\"LogisticRegression\"].coef_[0]\n",
    "features = X.columns\n",
    "\n",
    "feat_imp = [(feat, imp) for feat, imp in zip(features, coefficients)]\n",
    "feat_imp.sort(key=lambda x: abs(x[1]), reverse=True)\n",
    "\n",
    "for feat, imp in feat_imp:\n",
    "    print(f\"Coefficeient of {feat}:{' ' * (20 - len(feat))} {imp}\")"
   ]
  },
  {
   "cell_type": "markdown",
   "id": "1bf394db-71c0-4dfb-a5c4-d41013586feb",
   "metadata": {},
   "source": [
    "___\n",
    "## Multiclass Health Perception Prediction Using Logistic Regression"
   ]
  },
  {
   "cell_type": "code",
   "execution_count": 62,
   "id": "Xl3geCTXOJdk",
   "metadata": {
    "colab": {
     "base_uri": "https://localhost:8080/"
    },
    "id": "Xl3geCTXOJdk",
    "outputId": "754c22e6-7ade-4188-eafe-2760735dd102"
   },
   "outputs": [
    {
     "name": "stderr",
     "output_type": "stream",
     "text": [
      "/Users/krishnan/320env/lib/python3.13/site-packages/sklearn/linear_model/_logistic.py:1247: FutureWarning: 'multi_class' was deprecated in version 1.5 and will be removed in 1.7. From then on, it will always use 'multinomial'. Leave it to its default value to avoid this warning.\n",
      "  warnings.warn(\n"
     ]
    },
    {
     "name": "stdout",
     "output_type": "stream",
     "text": [
      "Accuracy: 0.451\n",
      "              precision    recall  f1-score   support\n",
      "\n",
      "           0       0.53      0.36      0.43      2258\n",
      "           1       0.44      0.26      0.32      6935\n",
      "           2       0.44      0.39      0.41     18626\n",
      "           3       0.45      0.70      0.55     22772\n",
      "           4       0.46      0.23      0.30     13368\n",
      "\n",
      "    accuracy                           0.45     63959\n",
      "   macro avg       0.47      0.39      0.40     63959\n",
      "weighted avg       0.45      0.45      0.43     63959\n",
      "\n",
      "[[  815   971   384    84     4]\n",
      " [  508  1786  3195  1352    94]\n",
      " [  159   952  7227  9202  1086]\n",
      " [   34   290  4145 15991  2312]\n",
      " [    8    75  1365  8903  3017]]\n",
      "SleepTime coefficients by class boundary:\n",
      "  Class 0: -0.046\n",
      "  Class 1: -0.062\n",
      "  Class 2: -0.022\n",
      "  Class 3: 0.029\n",
      "  Class 4: 0.101\n"
     ]
    }
   ],
   "source": [
    "import pandas as pd\n",
    "from sklearn.model_selection import train_test_split\n",
    "from sklearn.preprocessing import OneHotEncoder, StandardScaler\n",
    "from sklearn.compose import ColumnTransformer\n",
    "from sklearn.pipeline import Pipeline\n",
    "from sklearn.linear_model import LogisticRegression\n",
    "from sklearn.metrics import classification_report, confusion_matrix, accuracy_score, recall_score\n",
    "\n",
    "df = pd.read_csv('heart_2020_cleaned.csv')\n",
    "\n",
    "health_map = {\"Poor\": 0, \"Fair\": 1, \"Good\": 2, \"Very good\": 3, \"Excellent\": 4}\n",
    "df = df[df[\"GenHealth\"].isin(health_map)]\n",
    "df[\"GenHealthNum\"] = df[\"GenHealth\"].map(health_map)\n",
    "\n",
    "num_cols = [\"SleepTime\", \"BMI\", \"PhysicalHealth\", \"MentalHealth\"]\n",
    "cat_cols = [\n",
    "    \"Smoking\", \"AlcoholDrinking\", \"Stroke\", \"DiffWalking\", \"Sex\", \"AgeCategory\",\n",
    "    \"Race\", \"Diabetic\", \"PhysicalActivity\", \"Asthma\", \"KidneyDisease\", \"SkinCancer\"\n",
    "]\n",
    "\n",
    "X = df[num_cols + cat_cols]\n",
    "y = df[\"GenHealthNum\"]\n",
    "\n",
    "X_train, X_test, y_train, y_test = train_test_split(\n",
    "    X, y, test_size=0.2, stratify=y, random_state=42\n",
    ")\n",
    "\n",
    "num_pipe = Pipeline([(\"scale\", StandardScaler())])\n",
    "cat_pipe = Pipeline([(\"encode\", OneHotEncoder(handle_unknown=\"ignore\"))])\n",
    "\n",
    "preproc = ColumnTransformer([\n",
    "    (\"num\", num_pipe, num_cols),\n",
    "    (\"cat\", cat_pipe, cat_cols),\n",
    "])\n",
    "\n",
    "model = Pipeline([\n",
    "    (\"prep\", preproc),\n",
    "    (\"clf\", LogisticRegression(\n",
    "        multi_class=\"multinomial\",\n",
    "        solver=\"lbfgs\",\n",
    "        max_iter=1000,\n",
    "        n_jobs=-1,\n",
    "    )),\n",
    "])\n",
    "\n",
    "model.fit(X_train, y_train)\n",
    "\n",
    "y_pred = model.predict(X_test)\n",
    "print(\"Accuracy:\", round(accuracy_score(y_test, y_pred), 3))\n",
    "print(classification_report(y_test, y_pred))\n",
    "print(confusion_matrix(y_test, y_pred))\n",
    "\n",
    "coefs = model.named_steps[\"clf\"].coef_[:, 0]\n",
    "print(\"SleepTime coefficients by class boundary:\")\n",
    "for i, c in enumerate(coefs):\n",
    "    print(f\"  Class {i}: {c:.3f}\")\n"
   ]
  },
  {
   "cell_type": "code",
   "execution_count": 63,
   "id": "LeCNGz8zqJwk",
   "metadata": {
    "colab": {
     "base_uri": "https://localhost:8080/"
    },
    "id": "LeCNGz8zqJwk",
    "outputId": "55de31f8-a70e-49aa-cd40-70700d0b2f6b"
   },
   "outputs": [
    {
     "name": "stderr",
     "output_type": "stream",
     "text": [
      "/Users/krishnan/320env/lib/python3.13/site-packages/sklearn/linear_model/_logistic.py:1247: FutureWarning: 'multi_class' was deprecated in version 1.5 and will be removed in 1.7. From then on, it will always use 'multinomial'. Leave it to its default value to avoid this warning.\n",
      "  warnings.warn(\n"
     ]
    },
    {
     "name": "stdout",
     "output_type": "stream",
     "text": [
      "[[-0.09432904]\n",
      " [-0.05394729]\n",
      " [ 0.01577447]\n",
      " [ 0.0494006 ]\n",
      " [ 0.08310126]]\n"
     ]
    }
   ],
   "source": [
    "from sklearn.linear_model import LogisticRegression\n",
    "\n",
    "X = df[[\"SleepTime\"]]\n",
    "y = df[\"GenHealthNum\"]\n",
    "\n",
    "model = LogisticRegression(multi_class=\"multinomial\", max_iter=1000)\n",
    "model.fit(X, y)\n",
    "\n",
    "print(model.coef_)"
   ]
  },
  {
   "cell_type": "markdown",
   "id": "gA8JsmuwsNOQ",
   "metadata": {
    "id": "gA8JsmuwsNOQ"
   },
   "source": [
    "The chances of being rated Poor or Fair go down\n",
    "\n",
    "The chances of being rated Good, Very good, or Excellent go up\n",
    "\n",
    "The strongest upward effect is for “Excellent” (+0.083), meaning more sleep most clearly increases the probability of being in excellent health"
   ]
  },
  {
   "cell_type": "markdown",
   "id": "2Ky4E1jVTndf",
   "metadata": {
    "id": "2Ky4E1jVTndf"
   },
   "source": [
    "Analysis: For each additional hour of sleep, the odds of reporting “Excellent” health instead of lower categories increased by 10%.\n",
    "\n",
    "The model struggled most with “Poor” and “Excellent” categories likely due to fewer training examples and overlapping lifestyle profiles\n",
    "\n",
    "That model correctly guessed a person’s self-reported health about 45% of the time."
   ]
  }
 ],
 "metadata": {
  "colab": {
   "include_colab_link": true,
   "provenance": []
  },
  "kernelspec": {
   "display_name": "Python 3 (ipykernel)",
   "language": "python",
   "name": "python3"
  },
  "language_info": {
   "codemirror_mode": {
    "name": "ipython",
    "version": 3
   },
   "file_extension": ".py",
   "mimetype": "text/x-python",
   "name": "python",
   "nbconvert_exporter": "python",
   "pygments_lexer": "ipython3",
   "version": "3.10.4"
  }
 },
 "nbformat": 4,
 "nbformat_minor": 5
}
